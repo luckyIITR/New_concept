{
 "cells": [
  {
   "cell_type": "code",
   "execution_count": 1,
   "metadata": {},
   "outputs": [],
   "source": [
    "import numpy as np"
   ]
  },
  {
   "cell_type": "code",
   "execution_count": 17,
   "metadata": {},
   "outputs": [],
   "source": [
    "m_list = [[1, 1, 1],\n",
    "     [3, 2, 1],\n",
    "     [2, 1, 2]]\n",
    "\n",
    "b = [15, 28, 23]\n",
    "#m_list = [[4, 6, 2], [3, 4, 1], [2,8,13]]\n",
    "A = np.array(m_list)"
   ]
  },
  {
   "cell_type": "code",
   "execution_count": 18,
   "metadata": {},
   "outputs": [],
   "source": [
    "B = np.array(b)\n",
    "X = np.linalg.inv(A).dot(B)"
   ]
  },
  {
   "cell_type": "code",
   "execution_count": 19,
   "metadata": {},
   "outputs": [
    {
     "name": "stdout",
     "output_type": "stream",
     "text": [
      "[3. 7. 5.]\n"
     ]
    }
   ],
   "source": [
    "print(np.round(X,2))"
   ]
  },
  {
   "cell_type": "code",
   "execution_count": 22,
   "metadata": {},
   "outputs": [
    {
     "data": {
      "text/plain": [
       "array([[-1.5,  0.5,  0.5],\n",
       "       [ 2. ,  0. , -1. ],\n",
       "       [ 0.5, -0.5,  0.5]])"
      ]
     },
     "execution_count": 22,
     "metadata": {},
     "output_type": "execute_result"
    }
   ],
   "source": [
    "np.round(np.linalg.inv(A),2)"
   ]
  },
  {
   "cell_type": "code",
   "execution_count": null,
   "metadata": {},
   "outputs": [],
   "source": []
  },
  {
   "cell_type": "code",
   "execution_count": null,
   "metadata": {},
   "outputs": [],
   "source": []
  },
  {
   "cell_type": "code",
   "execution_count": null,
   "metadata": {},
   "outputs": [],
   "source": []
  },
  {
   "cell_type": "code",
   "execution_count": 24,
   "metadata": {},
   "outputs": [
    {
     "name": "stdout",
     "output_type": "stream",
     "text": [
      "Matrix : Matrix([[1, 1, 1, 15], [3, 2, 1, 28], [2, 1, 2, 23]]) \n",
      "The Row echelon form of matrix M and the pivot columns : (Matrix([\n",
      "[1, 0, 0, 3],\n",
      "[0, 1, 0, 7],\n",
      "[0, 0, 1, 5]]), (0, 1, 2))\n"
     ]
    }
   ],
   "source": [
    "# import sympy \n",
    "from sympy import *\n",
    "\n",
    "M = Matrix( [[1, 1, 1,15],\n",
    "     [3, 2, 1,28],\n",
    "     [2, 1, 2,23]]) \n",
    "print(\"Matrix : {} \".format(M)) \n",
    "\n",
    "# Use sympy.rref() method \n",
    "M_rref = M.rref() \n",
    "\n",
    "print(\"The Row echelon form of matrix M and the pivot columns : {}\".format(M_rref)) \n"
   ]
  },
  {
   "cell_type": "code",
   "execution_count": null,
   "metadata": {},
   "outputs": [],
   "source": []
  }
 ],
 "metadata": {
  "kernelspec": {
   "display_name": "Python 3",
   "language": "python",
   "name": "python3"
  },
  "language_info": {
   "codemirror_mode": {
    "name": "ipython",
    "version": 3
   },
   "file_extension": ".py",
   "mimetype": "text/x-python",
   "name": "python",
   "nbconvert_exporter": "python",
   "pygments_lexer": "ipython3",
   "version": "3.7.6"
  }
 },
 "nbformat": 4,
 "nbformat_minor": 4
}
